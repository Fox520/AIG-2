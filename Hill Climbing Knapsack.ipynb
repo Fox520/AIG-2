{
 "cells": [
  {
   "cell_type": "code",
   "execution_count": 52,
   "metadata": {},
   "outputs": [
    {
     "data": {
      "text/plain": [
       "16"
      ]
     },
     "execution_count": 52,
     "metadata": {},
     "output_type": "execute_result"
    }
   ],
   "source": [
    "values = [8, 7, 12, 6, 2, 3]\n",
    "weights = [5, 6, 10, 4, 1, 1]\n",
    "ks_solution_weights = []\n",
    "ks_solution_values = []\n",
    "ks_max_weight = 16"
   ]
  },
  {
   "cell_type": "code",
   "execution_count": 25,
   "metadata": {},
   "outputs": [
    {
     "data": {
      "text/plain": [
       "get_ks_weight (generic function with 1 method)"
      ]
     },
     "execution_count": 25,
     "metadata": {},
     "output_type": "execute_result"
    }
   ],
   "source": [
    "function calculate_heuristic(arr)\n",
    "    # Returns sum of values\n",
    "    if size(arr)[1] < 1\n",
    "        return 0\n",
    "    end\n",
    "    return sum(arr)\n",
    "end\n",
    "function get_ks_weight()\n",
    "    if size(ks_solution_weights)[1] < 1\n",
    "        return 0\n",
    "    end\n",
    "    return sum(ks_solution_weights)\n",
    "end"
   ]
  },
  {
   "cell_type": "code",
   "execution_count": 53,
   "metadata": {},
   "outputs": [
    {
     "name": "stdout",
     "output_type": "stream",
     "text": [
      "Step => 1, Current heuristic => 12, Sack weight => 10\n",
      "Step => 2, Current heuristic => 20, Sack weight => 15\n",
      "Step => 3, Current heuristic => 23, Sack weight => 16\n",
      "\n",
      "Remaining weight in knapsack => 0\n",
      "Final heuristic => 23\n",
      "\n",
      "Combination of solution:\n",
      "Item Value => 12 Weight => 10\n",
      "Item Value => 8 Weight => 5\n",
      "Item Value => 3 Weight => 1\n"
     ]
    }
   ],
   "source": [
    "for step in 1:size(values)[1]\n",
    "    current_heuristic = calculate_heuristic(ks_solution_values)\n",
    "    heuristic_index = -1\n",
    "    for j in 1:size(values)[1]\n",
    "        # Don't attempt on item which will make sack over limit weight if added\n",
    "        if get_ks_weight() + weights[j] <= ks_max_weight\n",
    "            # Pretend to add item to sack and get heuristic(value) with newly added item\n",
    "            temp_sack = deepcopy(ks_solution_values)\n",
    "            append!(temp_sack, values[j])\n",
    "            \n",
    "            temp_heuristic = calculate_heuristic(temp_sack)\n",
    "            if temp_heuristic > current_heuristic\n",
    "                # New heuristic\n",
    "                heuristic_index = j\n",
    "                current_heuristic = temp_heuristic\n",
    "            end\n",
    "        end\n",
    "    end\n",
    "    # Add item with highest heuristic in current iteration to sack\n",
    "    if heuristic_index != -1\n",
    "        # Remove from values and weights from array to avoid duplicate processing in next iteration\n",
    "        # Weight\n",
    "        _weight = weights[heuristic_index]\n",
    "        append!(ks_solution_weights, _weight)\n",
    "        deleteat!(weights, heuristic_index)\n",
    "        # Value\n",
    "        _value = values[heuristic_index]\n",
    "        append!(ks_solution_values, _value)\n",
    "        deleteat!(values, heuristic_index)\n",
    "        \n",
    "        println(\n",
    "            \"Step => \",\n",
    "            step,\n",
    "            \", Current heuristic => \",\n",
    "            calculate_heuristic(ks_solution_values),\n",
    "            \", Sack weight => \",\n",
    "            get_ks_weight(),\n",
    "        )\n",
    "    end\n",
    "end\n",
    "println()\n",
    "println(\"Remaining weight in knapsack => \", ks_max_weight-get_ks_weight())\n",
    "println(\"Final heuristic => \", calculate_heuristic(ks_solution_values))\n",
    "println()\n",
    "println(\"Combination of solution:\")\n",
    "for i in 1:size(ks_solution_values)[1]\n",
    "    println(\"Item Value => \",ks_solution_values[i],\" Weight => \", ks_solution_weights[i])\n",
    "end"
   ]
  }
 ],
 "metadata": {
  "kernelspec": {
   "display_name": "Julia 1.0.5",
   "language": "julia",
   "name": "julia-1.0"
  },
  "language_info": {
   "file_extension": ".jl",
   "mimetype": "application/julia",
   "name": "julia",
   "version": "1.0.5"
  }
 },
 "nbformat": 4,
 "nbformat_minor": 2
}
