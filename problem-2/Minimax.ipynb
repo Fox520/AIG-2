{
 "cells": [
  {
   "cell_type": "code",
   "execution_count": 2,
   "metadata": {},
   "outputs": [],
   "source": [
    "mutable struct Node\n",
    "    value::Any\n",
    "    children::Array{Any,1}\n",
    "end"
   ]
  },
  {
   "cell_type": "code",
   "execution_count": 22,
   "metadata": {},
   "outputs": [
    {
     "data": {
      "text/plain": [
       "get_min (generic function with 1 method)"
      ]
     },
     "execution_count": 22,
     "metadata": {},
     "output_type": "execute_result"
    }
   ],
   "source": [
    "function get_max(a1, a2)\n",
    "    if typeof(a1) == UndefInitializer\n",
    "        return a2\n",
    "    end\n",
    "    if typeof(a2) == UndefInitializer\n",
    "        return a1\n",
    "    end\n",
    "    return max(a1, a2)\n",
    "end\n",
    "\n",
    "function get_min(a1, a2)\n",
    "   if typeof(a1) == UndefInitializer\n",
    "        return a2\n",
    "    end\n",
    "    if typeof(a2) == UndefInitializer\n",
    "        return a1\n",
    "    end\n",
    "    return min(a1, a2)\n",
    "end"
   ]
  },
  {
   "cell_type": "code",
   "execution_count": 23,
   "metadata": {},
   "outputs": [
    {
     "data": {
      "text/plain": [
       "minimax (generic function with 1 method)"
      ]
     },
     "execution_count": 23,
     "metadata": {},
     "output_type": "execute_result"
    }
   ],
   "source": [
    "function minimax(node, is_maximize)\n",
    "    # Check if is leaf\n",
    "    if isempty(node.children)\n",
    "        return node.value\n",
    "    end\n",
    "    if is_maximize\n",
    "        max_val = -Inf\n",
    "        for child_index in 1:size(node.children)[1]\n",
    "            # Should perform minimization\n",
    "            val = minimax(node.children[child_index], false)\n",
    "            # Update maximum\n",
    "            max_val = get_max(max_val, val)\n",
    "        end\n",
    "        return max_val\n",
    "    else\n",
    "        min_val = Inf\n",
    "        for child_index in 1:size(node.children)[1]\n",
    "            val = minimax(node.children[child_index], true)\n",
    "            min_val = get_min(min_val, val)\n",
    "        end\n",
    "        return min_val\n",
    "    end\n",
    "end"
   ]
  },
  {
   "cell_type": "code",
   "execution_count": 25,
   "metadata": {},
   "outputs": [
    {
     "name": "stdout",
     "output_type": "stream",
     "text": [
      "3.0\n"
     ]
    }
   ],
   "source": [
    "leaf1 = Node(3, [])\n",
    "leaf2 = Node(5, [])\n",
    "leaf3 = Node(10, [])\n",
    "n1 = Node(undef, [leaf1, leaf2, leaf3])\n",
    "\n",
    "leaf11 = Node(2, [])\n",
    "leaf21 = Node(8, [])\n",
    "leaf31 = Node(19, [])\n",
    "n2 = Node(undef, [leaf11, leaf21, leaf31])\n",
    "\n",
    "leaf12 = Node(2, [])\n",
    "leaf22 = Node(7, [])\n",
    "leaf32 = Node(3, [])\n",
    "n3 = Node(undef, [leaf12, leaf22, leaf32])\n",
    "\n",
    "rootNode = Node(undef, [n1, n2, n3])\n",
    "println(minimax(rootNode, true))"
   ]
  }
 ],
 "metadata": {
  "kernelspec": {
   "display_name": "Julia 1.0.5",
   "language": "julia",
   "name": "julia-1.0"
  },
  "language_info": {
   "file_extension": ".jl",
   "mimetype": "application/julia",
   "name": "julia",
   "version": "1.0.5"
  }
 },
 "nbformat": 4,
 "nbformat_minor": 2
}
